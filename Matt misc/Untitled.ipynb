{
 "cells": [
  {
   "cell_type": "code",
   "execution_count": 31,
   "metadata": {},
   "outputs": [],
   "source": [
    "import numpy as np\n",
    "import pandas as pd\n",
    "import matplotlib.pyplot as plt\n",
    "from sklearn.decomposition import PCA\n",
    "from sklearn.model_selection import train_test_split\n",
    "from sklearn.neighbors import KNeighborsClassifier\n",
    "import time"
   ]
  },
  {
   "cell_type": "code",
   "execution_count": 5,
   "metadata": {},
   "outputs": [
    {
     "data": {
      "text/html": [
       "<div>\n",
       "<style scoped>\n",
       "    .dataframe tbody tr th:only-of-type {\n",
       "        vertical-align: middle;\n",
       "    }\n",
       "\n",
       "    .dataframe tbody tr th {\n",
       "        vertical-align: top;\n",
       "    }\n",
       "\n",
       "    .dataframe thead th {\n",
       "        text-align: right;\n",
       "    }\n",
       "</style>\n",
       "<table border=\"1\" class=\"dataframe\">\n",
       "  <thead>\n",
       "    <tr style=\"text-align: right;\">\n",
       "      <th></th>\n",
       "      <th>address</th>\n",
       "      <th>flag</th>\n",
       "      <th>minTimeBetweenSentTnx</th>\n",
       "      <th>maxTimeBetweenSentTnx</th>\n",
       "      <th>avgTimeBetweenSentTnx</th>\n",
       "      <th>minTimeBetweenRecTnx</th>\n",
       "      <th>maxTimeBetweenRecTnx</th>\n",
       "      <th>avgTimeBetweenRecTnx</th>\n",
       "      <th>lifetime</th>\n",
       "      <th>sentTransactions</th>\n",
       "      <th>...</th>\n",
       "      <th>totalEtherBalance</th>\n",
       "      <th>activityDays</th>\n",
       "      <th>dailyMax</th>\n",
       "      <th>ratioRecSent</th>\n",
       "      <th>ratioSentTotal</th>\n",
       "      <th>ratioRecTotal</th>\n",
       "      <th>giniSent</th>\n",
       "      <th>giniRec</th>\n",
       "      <th>txFreq</th>\n",
       "      <th>stdBalanceEth</th>\n",
       "    </tr>\n",
       "  </thead>\n",
       "  <tbody>\n",
       "    <tr>\n",
       "      <th>0</th>\n",
       "      <td>0xd0cc2b24980cbcca47ef755da88b220a82291407</td>\n",
       "      <td>1</td>\n",
       "      <td>0.0</td>\n",
       "      <td>2387389.0</td>\n",
       "      <td>5.807655e+04</td>\n",
       "      <td>89.0</td>\n",
       "      <td>1.501076e+09</td>\n",
       "      <td>7.148260e+07</td>\n",
       "      <td>46</td>\n",
       "      <td>66</td>\n",
       "      <td>...</td>\n",
       "      <td>0.291940</td>\n",
       "      <td>10</td>\n",
       "      <td>60</td>\n",
       "      <td>0.313433</td>\n",
       "      <td>0.750000</td>\n",
       "      <td>0.238636</td>\n",
       "      <td>0.969121</td>\n",
       "      <td>0.888782</td>\n",
       "      <td>1.891304</td>\n",
       "      <td>147.701484</td>\n",
       "    </tr>\n",
       "    <tr>\n",
       "      <th>1</th>\n",
       "      <td>0x4cdc1cba0aeb5539f2e0ba158281e67e0e54a9b1</td>\n",
       "      <td>1</td>\n",
       "      <td>0.0</td>\n",
       "      <td>0.0</td>\n",
       "      <td>0.000000e+00</td>\n",
       "      <td>3021091.0</td>\n",
       "      <td>1.502802e+09</td>\n",
       "      <td>7.529115e+08</td>\n",
       "      <td>35</td>\n",
       "      <td>0</td>\n",
       "      <td>...</td>\n",
       "      <td>0.013541</td>\n",
       "      <td>2</td>\n",
       "      <td>1</td>\n",
       "      <td>2.000000</td>\n",
       "      <td>0.000000</td>\n",
       "      <td>0.666667</td>\n",
       "      <td>0.000000</td>\n",
       "      <td>0.238480</td>\n",
       "      <td>0.057143</td>\n",
       "      <td>0.005000</td>\n",
       "    </tr>\n",
       "    <tr>\n",
       "      <th>2</th>\n",
       "      <td>0x00e01a648ff41346cdeb873182383333d2184dd1</td>\n",
       "      <td>1</td>\n",
       "      <td>37.0</td>\n",
       "      <td>25112882.0</td>\n",
       "      <td>1.710279e+06</td>\n",
       "      <td>0.0</td>\n",
       "      <td>1.500397e+09</td>\n",
       "      <td>6.820612e+07</td>\n",
       "      <td>299</td>\n",
       "      <td>15</td>\n",
       "      <td>...</td>\n",
       "      <td>0.266494</td>\n",
       "      <td>14</td>\n",
       "      <td>16</td>\n",
       "      <td>1.375000</td>\n",
       "      <td>0.394737</td>\n",
       "      <td>0.578947</td>\n",
       "      <td>0.465450</td>\n",
       "      <td>0.614205</td>\n",
       "      <td>0.123746</td>\n",
       "      <td>52.129575</td>\n",
       "    </tr>\n",
       "    <tr>\n",
       "      <th>3</th>\n",
       "      <td>0x858457daa7e087ad74cdeeceab8419079bc2ca03</td>\n",
       "      <td>1</td>\n",
       "      <td>0.0</td>\n",
       "      <td>642460.0</td>\n",
       "      <td>1.576106e+04</td>\n",
       "      <td>0.0</td>\n",
       "      <td>1.500037e+09</td>\n",
       "      <td>1.352571e+07</td>\n",
       "      <td>36</td>\n",
       "      <td>109</td>\n",
       "      <td>...</td>\n",
       "      <td>0.007419</td>\n",
       "      <td>36</td>\n",
       "      <td>67</td>\n",
       "      <td>1.009091</td>\n",
       "      <td>0.493213</td>\n",
       "      <td>0.502262</td>\n",
       "      <td>0.957906</td>\n",
       "      <td>0.794121</td>\n",
       "      <td>6.111111</td>\n",
       "      <td>233.689231</td>\n",
       "    </tr>\n",
       "    <tr>\n",
       "      <th>4</th>\n",
       "      <td>0x240e125c20a4cc84bd6e7f8d1fd07aff4c06d43d</td>\n",
       "      <td>1</td>\n",
       "      <td>0.0</td>\n",
       "      <td>0.0</td>\n",
       "      <td>0.000000e+00</td>\n",
       "      <td>3894.0</td>\n",
       "      <td>1.500402e+09</td>\n",
       "      <td>3.751409e+08</td>\n",
       "      <td>82</td>\n",
       "      <td>1</td>\n",
       "      <td>...</td>\n",
       "      <td>0.002199</td>\n",
       "      <td>3</td>\n",
       "      <td>3</td>\n",
       "      <td>2.000000</td>\n",
       "      <td>0.166667</td>\n",
       "      <td>0.666667</td>\n",
       "      <td>0.000000</td>\n",
       "      <td>0.406556</td>\n",
       "      <td>0.060976</td>\n",
       "      <td>0.757788</td>\n",
       "    </tr>\n",
       "  </tbody>\n",
       "</table>\n",
       "<p>5 rows × 34 columns</p>\n",
       "</div>"
      ],
      "text/plain": [
       "                                      address  flag  minTimeBetweenSentTnx  \\\n",
       "0  0xd0cc2b24980cbcca47ef755da88b220a82291407     1                    0.0   \n",
       "1  0x4cdc1cba0aeb5539f2e0ba158281e67e0e54a9b1     1                    0.0   \n",
       "2  0x00e01a648ff41346cdeb873182383333d2184dd1     1                   37.0   \n",
       "3  0x858457daa7e087ad74cdeeceab8419079bc2ca03     1                    0.0   \n",
       "4  0x240e125c20a4cc84bd6e7f8d1fd07aff4c06d43d     1                    0.0   \n",
       "\n",
       "   maxTimeBetweenSentTnx  avgTimeBetweenSentTnx  minTimeBetweenRecTnx  \\\n",
       "0              2387389.0           5.807655e+04                  89.0   \n",
       "1                    0.0           0.000000e+00             3021091.0   \n",
       "2             25112882.0           1.710279e+06                   0.0   \n",
       "3               642460.0           1.576106e+04                   0.0   \n",
       "4                    0.0           0.000000e+00                3894.0   \n",
       "\n",
       "   maxTimeBetweenRecTnx  avgTimeBetweenRecTnx  lifetime  sentTransactions  \\\n",
       "0          1.501076e+09          7.148260e+07        46                66   \n",
       "1          1.502802e+09          7.529115e+08        35                 0   \n",
       "2          1.500397e+09          6.820612e+07       299                15   \n",
       "3          1.500037e+09          1.352571e+07        36               109   \n",
       "4          1.500402e+09          3.751409e+08        82                 1   \n",
       "\n",
       "   ...  totalEtherBalance  activityDays  dailyMax  ratioRecSent  \\\n",
       "0  ...           0.291940            10        60      0.313433   \n",
       "1  ...           0.013541             2         1      2.000000   \n",
       "2  ...           0.266494            14        16      1.375000   \n",
       "3  ...           0.007419            36        67      1.009091   \n",
       "4  ...           0.002199             3         3      2.000000   \n",
       "\n",
       "   ratioSentTotal  ratioRecTotal  giniSent   giniRec    txFreq  stdBalanceEth  \n",
       "0        0.750000       0.238636  0.969121  0.888782  1.891304     147.701484  \n",
       "1        0.000000       0.666667  0.000000  0.238480  0.057143       0.005000  \n",
       "2        0.394737       0.578947  0.465450  0.614205  0.123746      52.129575  \n",
       "3        0.493213       0.502262  0.957906  0.794121  6.111111     233.689231  \n",
       "4        0.166667       0.666667  0.000000  0.406556  0.060976       0.757788  \n",
       "\n",
       "[5 rows x 34 columns]"
      ]
     },
     "execution_count": 5,
     "metadata": {},
     "output_type": "execute_result"
    }
   ],
   "source": [
    "df = pd.read_csv(\"eth_illicit_features.csv\")\n",
    "df.head()"
   ]
  },
  {
   "cell_type": "code",
   "execution_count": 6,
   "metadata": {},
   "outputs": [
    {
     "data": {
      "text/plain": [
       "(12146, 34)"
      ]
     },
     "execution_count": 6,
     "metadata": {},
     "output_type": "execute_result"
    }
   ],
   "source": [
    "df.shape"
   ]
  },
  {
   "cell_type": "code",
   "execution_count": 8,
   "metadata": {},
   "outputs": [
    {
     "data": {
      "text/plain": [
       "address                    0\n",
       "flag                       0\n",
       "minTimeBetweenSentTnx      0\n",
       "maxTimeBetweenSentTnx      0\n",
       "avgTimeBetweenSentTnx      0\n",
       "minTimeBetweenRecTnx       0\n",
       "maxTimeBetweenRecTnx       0\n",
       "avgTimeBetweenRecTnx       0\n",
       "lifetime                   0\n",
       "sentTransactions           0\n",
       "receivedTransactions       0\n",
       "createdContracts           0\n",
       "numUniqSentAddress         0\n",
       "numUniqRecAddress          0\n",
       "minValSent                 0\n",
       "maxValSent                 0\n",
       "avgValSent                 0\n",
       "minValReceived             0\n",
       "maxValReceived             0\n",
       "avgValReceived             0\n",
       "totalTransactions          0\n",
       "totalEtherSent             0\n",
       "totalEtherReceived         0\n",
       "totalEtherSentContracts    0\n",
       "totalEtherBalance          0\n",
       "activityDays               0\n",
       "dailyMax                   0\n",
       "ratioRecSent               0\n",
       "ratioSentTotal             0\n",
       "ratioRecTotal              0\n",
       "giniSent                   0\n",
       "giniRec                    0\n",
       "txFreq                     0\n",
       "stdBalanceEth              0\n",
       "dtype: int64"
      ]
     },
     "execution_count": 8,
     "metadata": {},
     "output_type": "execute_result"
    }
   ],
   "source": [
    "df.isna().sum()\n"
   ]
  },
  {
   "cell_type": "code",
   "execution_count": 14,
   "metadata": {},
   "outputs": [],
   "source": [
    "X = df.drop(['address', 'flag'], axis=1)\n",
    "y = df.flag"
   ]
  },
  {
   "cell_type": "code",
   "execution_count": 15,
   "metadata": {},
   "outputs": [],
   "source": [
    "reduced_feat = PCA(n_components=2).fit_transform(X)"
   ]
  },
  {
   "cell_type": "code",
   "execution_count": 29,
   "metadata": {},
   "outputs": [
    {
     "data": {
      "text/plain": [
       "<matplotlib.collections.PathCollection at 0x7fb9929f6b20>"
      ]
     },
     "execution_count": 29,
     "metadata": {},
     "output_type": "execute_result"
    },
    {
     "data": {
      "image/png": "[encoded data removed]",
      "text/plain": [
       "<Figure size 432x288 with 1 Axes>"
      ]
     },
     "metadata": {
      "needs_background": "light"
     },
     "output_type": "display_data"
    }
   ],
   "source": [
    "plt.scatter(reduced_feat[:,0], reduced_feat[:,1], c = y, cmap = plt.cm.Set1)"
   ]
  },
  {
   "cell_type": "code",
   "execution_count": 21,
   "metadata": {},
   "outputs": [
    {
     "data": {
      "text/plain": [
       "0.42400790383665404"
      ]
     },
     "execution_count": 21,
     "metadata": {},
     "output_type": "execute_result"
    }
   ],
   "source": [
    "np.mean(df.flag  == 1)"
   ]
  },
  {
   "cell_type": "code",
   "execution_count": 24,
   "metadata": {},
   "outputs": [],
   "source": [
    "X_train, X_test, y_train, y_test = train_test_split(X, y, test_size = 0.30)"
   ]
  },
  {
   "cell_type": "code",
   "execution_count": 25,
   "metadata": {},
   "outputs": [
    {
     "data": {
      "text/plain": [
       "KNeighborsClassifier()"
      ]
     },
     "execution_count": 25,
     "metadata": {},
     "output_type": "execute_result"
    }
   ],
   "source": [
    "knn = KNeighborsClassifier(n_neighbors = 5)\n",
    "knn.fit(X_train, y_train)"
   ]
  },
  {
   "cell_type": "code",
   "execution_count": 32,
   "metadata": {},
   "outputs": [
    {
     "data": {
      "text/plain": [
       "0.2055952548980713"
      ]
     },
     "execution_count": 32,
     "metadata": {},
     "output_type": "execute_result"
    }
   ],
   "source": [
    "start = time.time()\n",
    "pred = knn.predict(X_test)\n",
    "end = time.time()\n",
    "end-start"
   ]
  },
  {
   "cell_type": "code",
   "execution_count": 34,
   "metadata": {},
   "outputs": [
    {
     "data": {
      "text/plain": [
       "0.8708539167254764"
      ]
     },
     "execution_count": 34,
     "metadata": {},
     "output_type": "execute_result"
    }
   ],
   "source": [
    "train_pred = knn.predict(X_train)\n",
    "np.mean(train_pred == y_train)"
   ]
  },
  {
   "cell_type": "code",
   "execution_count": 27,
   "metadata": {},
   "outputs": [
    {
     "data": {
      "text/plain": [
       "0.8529088913282108"
      ]
     },
     "execution_count": 27,
     "metadata": {},
     "output_type": "execute_result"
    }
   ],
   "source": [
    "np.mean(pred == y_test)"
   ]
  },
  {
   "cell_type": "code",
   "execution_count": 39,
   "metadata": {},
   "outputs": [
    {
     "name": "stdout",
     "output_type": "stream",
     "text": [
      "accuracy: 0.69neighbor:1 dimmensions: 11\n",
      "accuracy: 0.69neighbor:1 dimmensions: 12\n",
      "accuracy: 0.69neighbor:1 dimmensions: 13\n",
      "accuracy: 0.69neighbor:1 dimmensions: 14\n",
      "accuracy: 0.69neighbor:1 dimmensions: 15\n",
      "accuracy: 0.69neighbor:1 dimmensions: 16\n",
      "accuracy: 0.69neighbor:1 dimmensions: 17\n",
      "accuracy: 0.69neighbor:1 dimmensions: 18\n",
      "accuracy: 0.69neighbor:1 dimmensions: 19\n",
      "accuracy: 0.69neighbor:2 dimmensions: 11\n",
      "accuracy: 0.69neighbor:2 dimmensions: 12\n",
      "accuracy: 0.69neighbor:2 dimmensions: 13\n",
      "accuracy: 0.69neighbor:2 dimmensions: 14\n",
      "accuracy: 0.69neighbor:2 dimmensions: 15\n",
      "accuracy: 0.69neighbor:2 dimmensions: 16\n",
      "accuracy: 0.69neighbor:2 dimmensions: 17\n",
      "accuracy: 0.69neighbor:2 dimmensions: 18\n",
      "accuracy: 0.69neighbor:2 dimmensions: 19\n",
      "accuracy: 0.7neighbor:3 dimmensions: 11\n",
      "accuracy: 0.7neighbor:3 dimmensions: 12\n",
      "accuracy: 0.7neighbor:3 dimmensions: 13\n",
      "accuracy: 0.7neighbor:3 dimmensions: 14\n",
      "accuracy: 0.7neighbor:3 dimmensions: 15\n",
      "accuracy: 0.7neighbor:3 dimmensions: 16\n",
      "accuracy: 0.7neighbor:3 dimmensions: 17\n",
      "accuracy: 0.7neighbor:3 dimmensions: 18\n",
      "accuracy: 0.7neighbor:3 dimmensions: 19\n",
      "accuracy: 0.7neighbor:4 dimmensions: 11\n",
      "accuracy: 0.7neighbor:4 dimmensions: 12\n",
      "accuracy: 0.7neighbor:4 dimmensions: 13\n",
      "accuracy: 0.7neighbor:4 dimmensions: 14\n",
      "accuracy: 0.7neighbor:4 dimmensions: 15\n",
      "accuracy: 0.7neighbor:4 dimmensions: 16\n",
      "accuracy: 0.7neighbor:4 dimmensions: 17\n",
      "accuracy: 0.7neighbor:4 dimmensions: 18\n",
      "accuracy: 0.7neighbor:4 dimmensions: 19\n",
      "accuracy: 0.71neighbor:5 dimmensions: 11\n",
      "accuracy: 0.71neighbor:5 dimmensions: 12\n",
      "accuracy: 0.71neighbor:5 dimmensions: 13\n",
      "accuracy: 0.71neighbor:5 dimmensions: 14\n",
      "accuracy: 0.71neighbor:5 dimmensions: 15\n",
      "accuracy: 0.71neighbor:5 dimmensions: 16\n",
      "accuracy: 0.71neighbor:5 dimmensions: 17\n",
      "accuracy: 0.71neighbor:5 dimmensions: 18\n",
      "accuracy: 0.71neighbor:5 dimmensions: 19\n",
      "accuracy: 0.74neighbor:6 dimmensions: 11\n",
      "accuracy: 0.74neighbor:6 dimmensions: 12\n",
      "accuracy: 0.74neighbor:6 dimmensions: 13\n",
      "accuracy: 0.74neighbor:6 dimmensions: 14\n",
      "accuracy: 0.74neighbor:6 dimmensions: 15\n",
      "accuracy: 0.74neighbor:6 dimmensions: 16\n",
      "accuracy: 0.74neighbor:6 dimmensions: 17\n",
      "accuracy: 0.74neighbor:6 dimmensions: 18\n",
      "accuracy: 0.74neighbor:6 dimmensions: 19\n",
      "accuracy: 0.72neighbor:7 dimmensions: 11\n",
      "accuracy: 0.72neighbor:7 dimmensions: 12\n",
      "accuracy: 0.72neighbor:7 dimmensions: 13\n",
      "accuracy: 0.72neighbor:7 dimmensions: 14\n",
      "accuracy: 0.72neighbor:7 dimmensions: 15\n",
      "accuracy: 0.72neighbor:7 dimmensions: 16\n",
      "accuracy: 0.72neighbor:7 dimmensions: 17\n",
      "accuracy: 0.72neighbor:7 dimmensions: 18\n",
      "accuracy: 0.72neighbor:7 dimmensions: 19\n",
      "accuracy: 0.75neighbor:8 dimmensions: 11\n",
      "accuracy: 0.75neighbor:8 dimmensions: 12\n",
      "accuracy: 0.75neighbor:8 dimmensions: 13\n",
      "accuracy: 0.75neighbor:8 dimmensions: 14\n",
      "accuracy: 0.75neighbor:8 dimmensions: 15\n",
      "accuracy: 0.75neighbor:8 dimmensions: 16\n",
      "accuracy: 0.75neighbor:8 dimmensions: 17\n",
      "accuracy: 0.75neighbor:8 dimmensions: 18\n",
      "accuracy: 0.75neighbor:8 dimmensions: 19\n",
      "accuracy: 0.71neighbor:9 dimmensions: 11\n",
      "accuracy: 0.71neighbor:9 dimmensions: 12\n",
      "accuracy: 0.71neighbor:9 dimmensions: 13\n",
      "accuracy: 0.71neighbor:9 dimmensions: 14\n",
      "accuracy: 0.71neighbor:9 dimmensions: 15\n",
      "accuracy: 0.71neighbor:9 dimmensions: 16\n",
      "accuracy: 0.71neighbor:9 dimmensions: 17\n",
      "accuracy: 0.71neighbor:9 dimmensions: 18\n",
      "accuracy: 0.71neighbor:9 dimmensions: 19\n",
      "accuracy: 0.77neighbor:10 dimmensions: 11\n",
      "accuracy: 0.77neighbor:10 dimmensions: 12\n",
      "accuracy: 0.77neighbor:10 dimmensions: 13\n",
      "accuracy: 0.77neighbor:10 dimmensions: 14\n",
      "accuracy: 0.77neighbor:10 dimmensions: 15\n",
      "accuracy: 0.77neighbor:10 dimmensions: 16\n",
      "accuracy: 0.77neighbor:10 dimmensions: 17\n",
      "accuracy: 0.77neighbor:10 dimmensions: 18\n",
      "accuracy: 0.77neighbor:10 dimmensions: 19\n"
     ]
    },
    {
     "data": {
      "text/plain": [
       "0.7738748627881449"
      ]
     },
     "execution_count": 39,
     "metadata": {},
     "output_type": "execute_result"
    }
   ],
   "source": [
    "acc = []\n",
    "for i in range(1,11):\n",
    "    for d in range(11,20):\n",
    "        reduced_feat = PCA(n_components=d).fit_transform(X_train)\n",
    "        reduced_labels = PCA(n_components=d).fit_transform(X_test)\n",
    "        knn = KNeighborsClassifier(n_neighbors = i)\n",
    "        knn.fit(reduced_feat, y_train)\n",
    "        pred = knn.predict(reduced_labels)\n",
    "        acc = np.mean(pred == y_test)\n",
    "        print('accuracy: ' + str(round(acc, 2)) + 'neighbor:' + str(i) + ' dimmensions: ' + str(d))\n",
    "acc"
   ]
  },
  {
   "cell_type": "code",
   "execution_count": null,
   "metadata": {},
   "outputs": [],
   "source": []
  }
 ],
 "metadata": {
  "kernelspec": {
   "display_name": "Python 3",
   "language": "python",
   "name": "python3"
  },
  "language_info": {
   "codemirror_mode": {
    "name": "ipython",
    "version": 3
   },
   "file_extension": ".py",
   "mimetype": "text/x-python",
   "name": "python",
   "nbconvert_exporter": "python",
   "pygments_lexer": "ipython3",
   "version": "3.8.5"
  }
 },
 "nbformat": 4,
 "nbformat_minor": 4
}
